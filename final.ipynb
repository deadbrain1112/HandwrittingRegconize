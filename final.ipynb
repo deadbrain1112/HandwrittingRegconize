{
 "cells": [
  {
   "cell_type": "code",
   "execution_count": 1,
   "id": "d61bd54c-09ac-4381-885d-bf58d317effb",
   "metadata": {},
   "outputs": [],
   "source": [
    "import tkinter as tk\n",
    "from PIL import Image, ImageDraw\n",
    "import numpy as np\n",
    "import pandas as pd\n",
    "import matplotlib.pyplot as plt\n",
    "import cv2\n",
    "import tensorflow as tf\n",
    "from sklearn.model_selection import train_test_split\n",
    "from collections import defaultdict\n",
    "import rapidfuzz"
   ]
  },
  {
   "cell_type": "code",
   "execution_count": 2,
   "id": "c97df896-e5b2-45fe-9f40-f2fc7b71c5d0",
   "metadata": {},
   "outputs": [],
   "source": [
    "data = pd.read_csv('A_Z Handwritten Data.csv')"
   ]
  },
  {
   "cell_type": "code",
   "execution_count": 3,
   "id": "ef0015fd-ab5f-438d-9814-25eb7fe76c97",
   "metadata": {},
   "outputs": [
    {
     "name": "stdout",
     "output_type": "stream",
     "text": [
      "   0  0.1  0.2  0.3  0.4  0.5  0.6  0.7  0.8  0.9  ...  0.639  0.640  0.641  \\\n",
      "0  0    0    0    0    0    0    0    0    0    0  ...      0      0      0   \n",
      "1  0    0    0    0    0    0    0    0    0    0  ...      0      0      0   \n",
      "2  0    0    0    0    0    0    0    0    0    0  ...      0      0      0   \n",
      "3  0    0    0    0    0    0    0    0    0    0  ...      0      0      0   \n",
      "4  0    0    0    0    0    0    0    0    0    0  ...      0      0      0   \n",
      "\n",
      "   0.642  0.643  0.644  0.645  0.646  0.647  0.648  \n",
      "0      0      0      0      0      0      0      0  \n",
      "1      0      0      0      0      0      0      0  \n",
      "2      0      0      0      0      0      0      0  \n",
      "3      0      0      0      0      0      0      0  \n",
      "4      0      0      0      0      0      0      0  \n",
      "\n",
      "[5 rows x 785 columns]\n"
     ]
    }
   ],
   "source": [
    "print(data.head())"
   ]
  },
  {
   "cell_type": "code",
   "execution_count": 4,
   "id": "b8e48249-83d2-4043-b055-13d16a5fb732",
   "metadata": {},
   "outputs": [
    {
     "data": {
      "image/png": "[encoded data removed]",
      "text/plain": [
       "<Figure size 300x300 with 1 Axes>"
      ]
     },
     "metadata": {},
     "output_type": "display_data"
    }
   ],
   "source": [
    "first_row = data.iloc[0]\n",
    "label = first_row.iloc[0]\n",
    "image_data = first_row.iloc[1:].values\n",
    "\n",
    "image = image_data.reshape((28, 28))\n",
    "\n",
    "plt.figure(figsize=(3,3))\n",
    "plt.imshow(image, cmap='gray')\n",
    "plt.title(f\"Label: {chr(label + ord('A'))}\") \n",
    "plt.show()"
   ]
  },
  {
   "cell_type": "code",
   "execution_count": 5,
   "id": "21327553-0165-4aad-a52c-73f35be239ed",
   "metadata": {},
   "outputs": [
    {
     "name": "stderr",
     "output_type": "stream",
     "text": [
      "C:\\Users\\admin\\anaconda3\\envs\\project\\Lib\\site-packages\\keras\\src\\layers\\reshaping\\flatten.py:37: UserWarning: Do not pass an `input_shape`/`input_dim` argument to a layer. When using Sequential models, prefer using an `Input(shape)` object as the first layer in the model instead.\n",
      "  super().__init__(**kwargs)\n"
     ]
    },
    {
     "name": "stdout",
     "output_type": "stream",
     "text": [
      "Epoch 1/10\n",
      "\u001b[1m9312/9312\u001b[0m \u001b[32m━━━━━━━━━━━━━━━━━━━━\u001b[0m\u001b[37m\u001b[0m \u001b[1m29s\u001b[0m 3ms/step - accuracy: 0.8916 - loss: 0.3892 - val_accuracy: 0.9672 - val_loss: 0.1191\n",
      "Epoch 2/10\n",
      "\u001b[1m9312/9312\u001b[0m \u001b[32m━━━━━━━━━━━━━━━━━━━━\u001b[0m\u001b[37m\u001b[0m \u001b[1m27s\u001b[0m 3ms/step - accuracy: 0.9696 - loss: 0.1024 - val_accuracy: 0.9705 - val_loss: 0.1005\n",
      "Epoch 3/10\n",
      "\u001b[1m9312/9312\u001b[0m \u001b[32m━━━━━━━━━━━━━━━━━━━━\u001b[0m\u001b[37m\u001b[0m \u001b[1m26s\u001b[0m 3ms/step - accuracy: 0.9773 - loss: 0.0755 - val_accuracy: 0.9766 - val_loss: 0.0811\n",
      "Epoch 4/10\n",
      "\u001b[1m9312/9312\u001b[0m \u001b[32m━━━━━━━━━━━━━━━━━━━━\u001b[0m\u001b[37m\u001b[0m \u001b[1m28s\u001b[0m 3ms/step - accuracy: 0.9817 - loss: 0.0608 - val_accuracy: 0.9784 - val_loss: 0.0785\n",
      "Epoch 5/10\n",
      "\u001b[1m9312/9312\u001b[0m \u001b[32m━━━━━━━━━━━━━━━━━━━━\u001b[0m\u001b[37m\u001b[0m \u001b[1m28s\u001b[0m 3ms/step - accuracy: 0.9836 - loss: 0.0526 - val_accuracy: 0.9788 - val_loss: 0.0757\n",
      "Epoch 6/10\n",
      "\u001b[1m9312/9312\u001b[0m \u001b[32m━━━━━━━━━━━━━━━━━━━━\u001b[0m\u001b[37m\u001b[0m \u001b[1m26s\u001b[0m 3ms/step - accuracy: 0.9861 - loss: 0.0451 - val_accuracy: 0.9804 - val_loss: 0.0785\n",
      "Epoch 7/10\n",
      "\u001b[1m9312/9312\u001b[0m \u001b[32m━━━━━━━━━━━━━━━━━━━━\u001b[0m\u001b[37m\u001b[0m \u001b[1m27s\u001b[0m 3ms/step - accuracy: 0.9876 - loss: 0.0402 - val_accuracy: 0.9825 - val_loss: 0.0689\n",
      "Epoch 8/10\n",
      "\u001b[1m9312/9312\u001b[0m \u001b[32m━━━━━━━━━━━━━━━━━━━━\u001b[0m\u001b[37m\u001b[0m \u001b[1m28s\u001b[0m 3ms/step - accuracy: 0.9889 - loss: 0.0362 - val_accuracy: 0.9821 - val_loss: 0.0695\n",
      "Epoch 9/10\n",
      "\u001b[1m9312/9312\u001b[0m \u001b[32m━━━━━━━━━━━━━━━━━━━━\u001b[0m\u001b[37m\u001b[0m \u001b[1m28s\u001b[0m 3ms/step - accuracy: 0.9890 - loss: 0.0351 - val_accuracy: 0.9850 - val_loss: 0.0621\n",
      "Epoch 10/10\n",
      "\u001b[1m9312/9312\u001b[0m \u001b[32m━━━━━━━━━━━━━━━━━━━━\u001b[0m\u001b[37m\u001b[0m \u001b[1m29s\u001b[0m 3ms/step - accuracy: 0.9905 - loss: 0.0315 - val_accuracy: 0.9849 - val_loss: 0.0650\n"
     ]
    },
    {
     "name": "stderr",
     "output_type": "stream",
     "text": [
      "WARNING:absl:You are saving your model as an HDF5 file via `model.save()` or `keras.saving.save_model(model)`. This file format is considered legacy. We recommend using instead the native Keras format, e.g. `model.save('my_model.keras')` or `keras.saving.save_model(model, 'my_model.keras')`. \n"
     ]
    }
   ],
   "source": [
    "# Chuẩn bị dữ liệu\n",
    "data_array = data.to_numpy()\n",
    "labels = data_array[:, 0]\n",
    "images = data_array[:, 1:].reshape(-1, 28, 28) / 255\n",
    "\n",
    "# Chia dữ liệu thành tập huấn luyện, validation và test\n",
    "train_images, temp_images, train_labels, temp_labels = train_test_split(images, labels, test_size=0.2, random_state=42)\n",
    "val_images, test_images, val_labels, test_labels = train_test_split(temp_images, temp_labels, test_size=0.5, random_state=42)\n",
    "\n",
    "# Xây dựng mô hình\n",
    "my_model = tf.keras.models.Sequential([\n",
    "    tf.keras.layers.Flatten(input_shape=(28, 28)),\n",
    "    tf.keras.layers.Dense(256, activation='relu'),\n",
    "    tf.keras.layers.Dense(128, activation='relu'),\n",
    "    tf.keras.layers.Dense(64, activation='relu'),\n",
    "    tf.keras.layers.Dense(26, activation='softmax')\n",
    "])\n",
    "\n",
    "\n",
    "my_model.compile(optimizer='adam', loss='sparse_categorical_crossentropy', metrics=['accuracy'])\n",
    "\n",
    "\n",
    "my_model.fit(train_images, train_labels, epochs=10, validation_data=(val_images, val_labels))\n",
    "\n",
    "\n",
    "my_model.save('handwritten_model.h5')"
   ]
  },
  {
   "cell_type": "code",
   "execution_count": 6,
   "id": "21da190f-1878-4802-81a1-9d037f4f34bc",
   "metadata": {},
   "outputs": [],
   "source": [
    "def load_and_classify_dictionary(file_path):\n",
    "    with open(file_path, 'r', encoding='utf-8') as file:\n",
    "        words = [line.strip().lower() for line in file]\n",
    "    classified_dict = defaultdict(list)\n",
    "    for word in words:\n",
    "        if word:\n",
    "            classified_dict[word[0]].append(word)\n",
    "    return classified_dict\n",
    "\n",
    "# Load từ điển (thay đường dẫn thực tế)\n",
    "word_dictionary = load_and_classify_dictionary(\"dictionary.txt\")"
   ]
  },
  {
   "cell_type": "code",
   "execution_count": 7,
   "id": "e2b63d42-a825-411b-8695-82af8351e2cd",
   "metadata": {},
   "outputs": [],
   "source": [
    "def predict_Characters(characters):\n",
    "    if not characters:\n",
    "        return None\n",
    "    char_labels = 'ABCDEFGHIJKLMNOPQRSTUVWXYZ'\n",
    "    try:\n",
    "        characters_batch = np.stack(characters) / 255.0  # Chuẩn hóa dữ liệu\n",
    "        model_predictions = my_model.predict(characters_batch)\n",
    "        predicted_labels = np.argmax(model_predictions, axis=1)\n",
    "        return [char_labels[label] for label in predicted_labels]\n",
    "    except Exception as e:\n",
    "        print(f\"Error: {e}\")\n",
    "        return None"
   ]
  },
  {
   "cell_type": "code",
   "execution_count": 8,
   "id": "d568e6b5-1cb8-4ec8-87f3-ff58445ed94b",
   "metadata": {},
   "outputs": [],
   "source": [
    "def preprocess_and_segment_image(image):\n",
    "    # Nếu image là đường dẫn file, đọc file bằng cv2\n",
    "    if isinstance(image, str):\n",
    "        image = cv2.imread(image)\n",
    "        grayscale_image = cv2.cvtColor(image, cv2.COLOR_BGR2GRAY)\n",
    "    else:\n",
    "        # Nếu image là đối tượng PIL, chuyển thành numpy array\n",
    "        grayscale_image = cv2.cvtColor(np.array(image), cv2.COLOR_RGB2GRAY)\n",
    "\n",
    "    blurred_image = cv2.GaussianBlur(grayscale_image, (5, 5), 0)\n",
    "    binary_image = cv2.adaptiveThreshold(blurred_image, 255, cv2.ADAPTIVE_THRESH_MEAN_C, cv2.THRESH_BINARY_INV, 41, 25)\n",
    "\n",
    "    num_labels, labels_im = cv2.connectedComponents(binary_image, connectivity=8)\n",
    "    characters = []\n",
    "    bounding_boxes = []\n",
    "\n",
    "    for label in range(1, num_labels):\n",
    "        mask = (labels_im == label).astype(np.uint8) * 255\n",
    "        x, y, w, h = cv2.boundingRect(mask)\n",
    "        if w < 10 or h < 10:  # Bỏ qua nhiễu\n",
    "            continue\n",
    "        character = binary_image[y:y+h, x:x+w]\n",
    "        resized_character = cv2.resize(character, (18, 18))\n",
    "        padded_character = np.pad(resized_character, ((5, 5), (5, 5)), mode='constant', constant_values=0)\n",
    "        characters.append(padded_character)\n",
    "        bounding_boxes.append((x, y, w, h))\n",
    "\n",
    "    combined = list(zip(bounding_boxes, characters))\n",
    "    sorted_combined = sorted(combined, key=lambda item: item[0][0])  # Sắp xếp theo vị trí x\n",
    "    sorted_characters = [item[1] for item in sorted_combined]\n",
    "\n",
    "    # Hiển thị các ký tự đã phân đoạn\n",
    "    if len(sorted_characters) > 1:\n",
    "        fig, axs = plt.subplots(1, len(sorted_characters), figsize=(15, 5))\n",
    "    else:\n",
    "        fig, axs = plt.subplots(1, 1, figsize=(5, 5))\n",
    "    \n",
    "    if len(sorted_characters) == 1:\n",
    "        axs = [axs]\n",
    "\n",
    "    for i, char_img in enumerate(sorted_characters):\n",
    "        axs[i].imshow(char_img, cmap='gray')\n",
    "        axs[i].axis('off')\n",
    "    plt.show()\n",
    "\n",
    "    return sorted_characters"
   ]
  },
  {
   "cell_type": "code",
   "execution_count": 9,
   "id": "2c8d13aa-86f5-48cb-8571-1b0a58fdc523",
   "metadata": {},
   "outputs": [],
   "source": [
    "def detect_words(image):\n",
    "    img_array = np.array(image.convert('L'))\n",
    "    column_sums = np.sum(img_array < 128, axis=0)\n",
    "    threshold = 50  # Ngưỡng khoảng trắng lớn\n",
    "    words_boundaries = []\n",
    "    start = 0\n",
    "\n",
    "    for i in range(1, len(column_sums)):\n",
    "        if column_sums[i] == 0 and column_sums[i-1] > 0:\n",
    "            if i - start > threshold:\n",
    "                words_boundaries.append((start, i))\n",
    "            start = i\n",
    "    if start < len(column_sums) - 1:\n",
    "        words_boundaries.append((start, len(column_sums)))\n",
    "    return words_boundaries"
   ]
  },
  {
   "cell_type": "code",
   "execution_count": 10,
   "id": "7c4eec8b-609e-4465-9627-50c20b85aa87",
   "metadata": {},
   "outputs": [],
   "source": [
    "def detect_words(image):\n",
    "    img_array = np.array(image.convert('L'))\n",
    "    column_sums = np.sum(img_array < 128, axis=0)\n",
    "    threshold = 50  # Ngưỡng khoảng trắng lớn\n",
    "    words_boundaries = []\n",
    "    start = 0\n",
    "\n",
    "    for i in range(1, len(column_sums)):\n",
    "        if column_sums[i] == 0 and column_sums[i-1] > 0:\n",
    "            if i - start > threshold:\n",
    "                words_boundaries.append((start, i))\n",
    "            start = i\n",
    "    if start < len(column_sums) - 1:\n",
    "        words_boundaries.append((start, len(column_sums)))\n",
    "    return words_boundaries"
   ]
  },
  {
   "cell_type": "code",
   "execution_count": 16,
   "id": "1d1ea731-0a3e-4a6f-bb74-392d119dd70c",
   "metadata": {},
   "outputs": [],
   "source": [
    "from rapidfuzz.distance import Levenshtein\n",
    "\n",
    "def find_closest_word(predicted_text, first_char):\n",
    "    if not predicted_text or first_char.lower() not in word_dictionary:\n",
    "        return predicted_text\n",
    "    possible_words = word_dictionary[first_char.lower()]\n",
    "    min_distance = float('inf')\n",
    "    closest_word = predicted_text.lower()\n",
    "\n",
    "    for word in possible_words:\n",
    "        distance = Levenshtein.distance(predicted_text.lower(), word)  # Sử dụng Levenshtein.distance\n",
    "        if distance < min_distance:\n",
    "            min_distance = distance\n",
    "            closest_word = word\n",
    "    return closest_word if min_distance <= 2 else predicted_text"
   ]
  },
  {
   "cell_type": "code",
   "execution_count": 17,
   "id": "7074000e-869e-4dd6-8e08-dec0eb439751",
   "metadata": {},
   "outputs": [],
   "source": [
    "def paint(event):\n",
    "    x1, y1 = (event.x - 8), (event.y - 8)\n",
    "    x2, y2 = (event.x + 8), (event.y + 8)\n",
    "    canvas.create_oval(x1, y1, x2, y2, fill='black', width=2)\n",
    "    draw.ellipse([x1, y1, x2, y2], fill='black')"
   ]
  },
  {
   "cell_type": "code",
   "execution_count": 18,
   "id": "ee9dedbd-0e49-4b56-afc8-2ac4f05af945",
   "metadata": {},
   "outputs": [],
   "source": [
    "def clear_canvas():\n",
    "    global canvas_image, draw\n",
    "    canvas.delete(\"all\")\n",
    "    canvas_image = Image.new(\"RGB\", (800, 800), \"white\")\n",
    "    draw = ImageDraw.Draw(canvas_image)\n",
    "    result_label.config(text=\"Predicted: \")"
   ]
  },
  {
   "cell_type": "code",
   "execution_count": 19,
   "id": "4ab904ae-6293-4b8f-99d0-a8d8c44e6766",
   "metadata": {},
   "outputs": [],
   "source": [
    "def predict_character():\n",
    "    characters = preprocess_and_segment_image(canvas_image)\n",
    "    if not characters:\n",
    "        result_label.config(text=\"Predicted: No characters detected\")\n",
    "        return\n",
    "\n",
    "    # Dự đoán các ký tự\n",
    "    predictions = predict_Characters(characters)\n",
    "    if not predictions:\n",
    "        result_label.config(text=\"Predicted: Error in prediction\")\n",
    "        return\n",
    "\n",
    "    # Phát hiện các từ dựa trên khoảng trắng\n",
    "    word_boundaries = detect_words(canvas_image)\n",
    "    predicted_words = []\n",
    "\n",
    "    # Tách các ký tự thành từ dựa trên khoảng trắng\n",
    "    char_idx = 0\n",
    "    for start, end in word_boundaries:\n",
    "        word_chars = []\n",
    "        while char_idx < len(predictions):\n",
    "            x, _, _, _ = cv2.boundingRect(characters[char_idx])\n",
    "            if start <= x <= end:\n",
    "                word_chars.append(predictions[char_idx])\n",
    "                char_idx += 1\n",
    "            else:\n",
    "                break\n",
    "        if word_chars:\n",
    "            predicted_text = ''.join(word_chars)\n",
    "            corrected_word = find_closest_word(predicted_text, predicted_text[0])\n",
    "            predicted_words.append(corrected_word)\n",
    "\n",
    "    final_text = \" \".join(predicted_words)\n",
    "    result_label.config(text=f\"Predicted: {final_text}\")"
   ]
  },
  {
   "cell_type": "code",
   "execution_count": 21,
   "id": "4f44dec1-00b6-48d8-90fe-fcc1df3fa3c3",
   "metadata": {},
   "outputs": [
    {
     "data": {
      "image/png": "[encoded data removed]",
      "text/plain": [
       "<Figure size 1500x500 with 8 Axes>"
      ]
     },
     "metadata": {},
     "output_type": "display_data"
    },
    {
     "name": "stdout",
     "output_type": "stream",
     "text": [
      "\u001b[1m1/1\u001b[0m \u001b[32m━━━━━━━━━━━━━━━━━━━━\u001b[0m\u001b[37m\u001b[0m \u001b[1m0s\u001b[0m 21ms/step\n"
     ]
    },
    {
     "data": {
      "image/png": "[encoded data removed]",
      "text/plain": [
       "<Figure size 1500x500 with 8 Axes>"
      ]
     },
     "metadata": {},
     "output_type": "display_data"
    },
    {
     "name": "stdout",
     "output_type": "stream",
     "text": [
      "\u001b[1m1/1\u001b[0m \u001b[32m━━━━━━━━━━━━━━━━━━━━\u001b[0m\u001b[37m\u001b[0m \u001b[1m0s\u001b[0m 23ms/step\n"
     ]
    }
   ],
   "source": [
    "def setup_gui():\n",
    "    global window, canvas, canvas_image, draw, result_label\n",
    "\n",
    "    window = tk.Tk()\n",
    "    window.title(\"Character Recognition Board\")\n",
    "\n",
    "    canvas = tk.Canvas(window, width=800, height=800, bg='white')\n",
    "    canvas.pack()\n",
    "    canvas.bind(\"<B1-Motion>\", paint)\n",
    "\n",
    "    canvas_image = Image.new(\"RGB\", (800, 800), \"white\")\n",
    "    draw = ImageDraw.Draw(canvas_image)\n",
    "\n",
    "    predict_button = tk.Button(window, text=\"Predict\", command=predict_character)\n",
    "    predict_button.pack()\n",
    "\n",
    "    clear_button = tk.Button(window, text=\"Clear\", command=clear_canvas)\n",
    "    clear_button.pack()\n",
    "\n",
    "    result_label = tk.Label(window, text=\"Predicted: \", font=(\"Arial\", 14))\n",
    "    result_label.pack()\n",
    "\n",
    "    window.mainloop()\n",
    "\n",
    "# Chạy GUI\n",
    "setup_gui()"
   ]
  }
 ],
 "metadata": {
  "kernelspec": {
   "display_name": "Python 3 (ipykernel)",
   "language": "python",
   "name": "python3"
  },
  "language_info": {
   "codemirror_mode": {
    "name": "ipython",
    "version": 3
   },
   "file_extension": ".py",
   "mimetype": "text/x-python",
   "name": "python",
   "nbconvert_exporter": "python",
   "pygments_lexer": "ipython3",
   "version": "3.12.8"
  }
 },
 "nbformat": 4,
 "nbformat_minor": 5
}
